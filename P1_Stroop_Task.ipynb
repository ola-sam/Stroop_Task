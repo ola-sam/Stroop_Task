{
 "cells": [
  {
   "cell_type": "markdown",
   "metadata": {},
   "source": [
    "# UDACITY NANODEGREE - DATA ANALYST"
   ]
  },
  {
   "cell_type": "markdown",
   "metadata": {},
   "source": [
    "### Samuel Elegure"
   ]
  },
  {
   "cell_type": "markdown",
   "metadata": {},
   "source": [
    "## P1: Test a Perceptual Phenomenon"
   ]
  },
  {
   "cell_type": "raw",
   "metadata": {
    "collapsed": true
   },
   "source": [
    "1.0 Introduction\n",
    "\n",
    "2.0 Feature Engineering\n",
    "  2.1 Load Data and Required Package\n",
    "  2.2 Defining Variables\n",
    "\n",
    "3.0 Descriptive Statistics\n",
    "   3.1 Visualizing the data\n",
    "       3.1.1 Boxplot\n",
    "   3.2 Measure of center of tendency\n",
    "       3.2.1 Mean, Median, Mode\n",
    "       3.2.2 Min & Max\n",
    "   3.3 Measure of Variability\n",
    "       3.3.1 Interquatile Range\n",
    "       3.3.2 Outlier\n",
    "       3.3.3 Standard Deviation\n",
    "\n",
    "4.0 Hypothesis Testing\n",
    "\n",
    "5.0 Conclusion\n",
    "    5.1 Possible reasons for the effects observed\n",
    "    5.2 Alternative or Similar task\n",
    "        "
   ]
  },
  {
   "cell_type": "markdown",
   "metadata": {},
   "source": [
    "# 1.0 Introduction"
   ]
  },
  {
   "cell_type": "markdown",
   "metadata": {},
   "source": [
    "The stroop effect in psychology is a demonstration of interference in the reaction time of a task.In a Stroop task, participants are presented with a list of words, with each word displayed in a color of ink\n",
    "\n",
    "This project is focussed on analysing the Stroop Effect on a task. The task has two conditions: a congruent words condition, and an incongruent words condition. In the congruent words condition, the words being displayed are color words whose names match the colors in which they are printed: for example RED, BLUE.\n",
    "\n",
    "In the incongruent words condition, the words displayed are color words whose names do not match the colors in which they are printed: for example, PURPLE (printed in red), ORANGE (printed in blue)."
   ]
  },
  {
   "cell_type": "markdown",
   "metadata": {},
   "source": [
    "# 2.0 Feature Engineering"
   ]
  },
  {
   "cell_type": "markdown",
   "metadata": {},
   "source": [
    "## 2.1 Load Data and Required Packages"
   ]
  },
  {
   "cell_type": "code",
   "execution_count": 2,
   "metadata": {
    "collapsed": false
   },
   "outputs": [
    {
     "name": "stdout",
     "output_type": "stream",
     "text": [
      "Populating the interactive namespace from numpy and matplotlib\n"
     ]
    }
   ],
   "source": [
    "import pandas as pd\n",
    "import numpy as np\n",
    "import seaborn as sns\n",
    "import matplotlib.pyplot as plt\n",
    "%pylab inline\n",
    "#import ggplot as ggplot\n",
    "\n",
    "stroop = pd.read_csv('stroopdata.csv')\n",
    "stroop.head()\n",
    "\n",
    "cong = stroop['Congruent']\n",
    "incong = stroop['Incongruent']"
   ]
  },
  {
   "cell_type": "markdown",
   "metadata": {},
   "source": [
    "## 2.2 Defining Variables"
   ]
  },
  {
   "cell_type": "markdown",
   "metadata": {},
   "source": [
    "Independent variable = 'Congruent task' and 'Incongruent task'\n",
    "\n",
    "Dependent variables = “Time taken to complete each task”"
   ]
  },
  {
   "cell_type": "markdown",
   "metadata": {},
   "source": [
    "# 3.0 Descriptive Statistics"
   ]
  },
  {
   "cell_type": "markdown",
   "metadata": {},
   "source": [
    "## 3.1 Visualizing the data"
   ]
  },
  {
   "cell_type": "markdown",
   "metadata": {},
   "source": [
    "### Plotting Graph of Congruent task"
   ]
  },
  {
   "cell_type": "code",
   "execution_count": 3,
   "metadata": {
    "collapsed": false
   },
   "outputs": [
    {
     "data": {
      "text/plain": [
       "<matplotlib.text.Text at 0x20388774358>"
      ]
     },
     "execution_count": 3,
     "metadata": {},
     "output_type": "execute_result"
    },
    {
     "data": {
      "image/png": "[encoded data removed]",
      "text/plain": [
       "<matplotlib.figure.Figure at 0x20384ed0a20>"
      ]
     },
     "metadata": {},
     "output_type": "display_data"
    }
   ],
   "source": [
    "import matplotlib.pyplot as plt\n",
    "%matplotlib inline\n",
    "plt.hist(cong, color = 'blue')\n",
    "plt.xlabel(\"Time Spent\")\n",
    "plt.ylabel(\"Number of Respondents\")\n",
    "plt.title(\"Congruent task\", fontsize = 16)"
   ]
  },
  {
   "cell_type": "markdown",
   "metadata": {},
   "source": [
    "The graph above shows a positively skewed distribution. The mode for the congruent data is 14 sec"
   ]
  },
  {
   "cell_type": "markdown",
   "metadata": {},
   "source": [
    "### Plotting Graph of Incongruent task"
   ]
  },
  {
   "cell_type": "code",
   "execution_count": 56,
   "metadata": {
    "collapsed": false
   },
   "outputs": [
    {
     "data": {
      "text/plain": [
       "<matplotlib.text.Text at 0x20388d5f438>"
      ]
     },
     "execution_count": 56,
     "metadata": {},
     "output_type": "execute_result"
    },
    {
     "data": {
      "image/png": "[encoded data removed]",
      "text/plain": [
       "<matplotlib.figure.Figure at 0x203886c27f0>"
      ]
     },
     "metadata": {},
     "output_type": "display_data"
    }
   ],
   "source": [
    "import matplotlib.pyplot as plt\n",
    "%matplotlib inline\n",
    "plt.hist(incong, color='green')\n",
    "plt.xlabel(\"x axis label\")\n",
    "plt.ylabel(\"Number of times\")\n",
    "plt.title(\"Incongruent task\", fontsize = 16)"
   ]
  },
  {
   "cell_type": "markdown",
   "metadata": {},
   "source": [
    "The graph above shows that the incongruent task has an outlier. The mode for the incongruent task is about 21 sec"
   ]
  },
  {
   "cell_type": "markdown",
   "metadata": {},
   "source": [
    "## 3.1.1 Boxplot"
   ]
  },
  {
   "cell_type": "code",
   "execution_count": 5,
   "metadata": {
    "collapsed": false
   },
   "outputs": [
    {
     "data": {
      "text/plain": [
       "<matplotlib.text.Text at 0x20388a3e208>"
      ]
     },
     "execution_count": 5,
     "metadata": {},
     "output_type": "execute_result"
    },
    {
     "data": {
      "image/png": "[encoded data removed]",
      "text/plain": [
       "<matplotlib.figure.Figure at 0x203888694e0>"
      ]
     },
     "metadata": {},
     "output_type": "display_data"
    }
   ],
   "source": [
    "stroop.boxplot(column=['Congruent', 'Incongruent'])\n",
    "plt.title(\"Boxplot of Congruent & Incongruent task\", fontsize = 16)\n",
    "plt.ylabel(\"Time Spent\")"
   ]
  },
  {
   "cell_type": "markdown",
   "metadata": {},
   "source": [
    "The Boxplot above shows that averagely, the respondents significantly spent more time on the incongruent task when compared to the congruent task. The median for congruent data is about 14 secs while the median for the incongruent is around 21 sec"
   ]
  },
  {
   "cell_type": "markdown",
   "metadata": {},
   "source": [
    "## 3.2 Measure of Center"
   ]
  },
  {
   "cell_type": "code",
   "execution_count": 7,
   "metadata": {
    "collapsed": false
   },
   "outputs": [
    {
     "data": {
      "text/html": [
       "<div>\n",
       "<table border=\"1\" class=\"dataframe\">\n",
       "  <thead>\n",
       "    <tr style=\"text-align: right;\">\n",
       "      <th></th>\n",
       "      <th>Congruent</th>\n",
       "      <th>Incongruent</th>\n",
       "    </tr>\n",
       "  </thead>\n",
       "  <tbody>\n",
       "    <tr>\n",
       "      <th>count</th>\n",
       "      <td>24.000000</td>\n",
       "      <td>24.000000</td>\n",
       "    </tr>\n",
       "    <tr>\n",
       "      <th>mean</th>\n",
       "      <td>14.051125</td>\n",
       "      <td>22.015917</td>\n",
       "    </tr>\n",
       "    <tr>\n",
       "      <th>std</th>\n",
       "      <td>3.559358</td>\n",
       "      <td>4.797057</td>\n",
       "    </tr>\n",
       "    <tr>\n",
       "      <th>min</th>\n",
       "      <td>8.630000</td>\n",
       "      <td>15.687000</td>\n",
       "    </tr>\n",
       "    <tr>\n",
       "      <th>25%</th>\n",
       "      <td>11.895250</td>\n",
       "      <td>18.716750</td>\n",
       "    </tr>\n",
       "    <tr>\n",
       "      <th>50%</th>\n",
       "      <td>14.356500</td>\n",
       "      <td>21.017500</td>\n",
       "    </tr>\n",
       "    <tr>\n",
       "      <th>75%</th>\n",
       "      <td>16.200750</td>\n",
       "      <td>24.051500</td>\n",
       "    </tr>\n",
       "    <tr>\n",
       "      <th>max</th>\n",
       "      <td>22.328000</td>\n",
       "      <td>35.255000</td>\n",
       "    </tr>\n",
       "  </tbody>\n",
       "</table>\n",
       "</div>"
      ],
      "text/plain": [
       "       Congruent  Incongruent\n",
       "count  24.000000    24.000000\n",
       "mean   14.051125    22.015917\n",
       "std     3.559358     4.797057\n",
       "min     8.630000    15.687000\n",
       "25%    11.895250    18.716750\n",
       "50%    14.356500    21.017500\n",
       "75%    16.200750    24.051500\n",
       "max    22.328000    35.255000"
      ]
     },
     "execution_count": 7,
     "metadata": {},
     "output_type": "execute_result"
    }
   ],
   "source": [
    "stroop.describe()"
   ]
  },
  {
   "cell_type": "markdown",
   "metadata": {},
   "source": [
    "## 3.2.1 Mean, Median, Mode:"
   ]
  },
  {
   "cell_type": "markdown",
   "metadata": {},
   "source": [
    "Congruent task:\n",
    "<ls> The average time spent on Congruent task is 14 seconds. The median is almost same at 14.3 seconds. The mode is also about 14 seconds. It can be said that the center of tendency for the congruent task is 14 seconds. Because the Mean, Median and Mode are around 14 seconds and there is no outlier in the distribution.\n",
    "\n",
    "Incongruent task:\n",
    "<ls> The median and the Mode of the Incongruent data is about 21 seconds which is not so much different from the Mean at 22 seconds. But because of the presence of an outlier in the incongruent task, the mean can be said not to be accurate. Hence we will use the median and the mode figures of 21 seconds as the center of tendency in the incongrent task."
   ]
  },
  {
   "cell_type": "markdown",
   "metadata": {},
   "source": [
    "## 3.2.2 Min & Max:"
   ]
  },
  {
   "cell_type": "markdown",
   "metadata": {},
   "source": [
    "<ls> The minimum time spent by participants on the congruent task is almost half the minimum time spent on the incongruent task. \n",
    "<ls> The Maximum time spent on the congruent task is 22 sec while the maximum time spent on the incongruent task is 35 seconds."
   ]
  },
  {
   "cell_type": "markdown",
   "metadata": {
    "collapsed": true
   },
   "source": [
    "# 3.3 Measure of Variability"
   ]
  },
  {
   "cell_type": "markdown",
   "metadata": {},
   "source": [
    "## 3.3.1 Interquartile Range"
   ]
  },
  {
   "cell_type": "code",
   "execution_count": 6,
   "metadata": {
    "collapsed": false
   },
   "outputs": [
    {
     "name": "stdout",
     "output_type": "stream",
     "text": [
      "Range for Congruent task is 13.698\n",
      "Range for Incongruent task is 19.568\n",
      "The Interquartile range for Congruent task is 4.3055\n",
      "The Interquartile range for Incongruent task is 5.33475\n"
     ]
    }
   ],
   "source": [
    "def Range(dist):\n",
    "    return max(dist) - min(dist)\n",
    "\n",
    "def IQR(dist):\n",
    "    return percentile(dist, 75) - percentile(dist, 25)\n",
    "\n",
    "print ('Range for Congruent task is', Range(cong))\n",
    "print ('Range for Incongruent task is', Range(incong))\n",
    "\n",
    "print ('The Interquartile range for Congruent task is', IQR(cong))\n",
    "print ('The Interquartile range for Incongruent task is', IQR(incong))"
   ]
  },
  {
   "cell_type": "markdown",
   "metadata": {},
   "source": [
    "## 3.3.2 Outlier"
   ]
  },
  {
   "cell_type": "code",
   "execution_count": 7,
   "metadata": {
    "collapsed": false
   },
   "outputs": [
    {
     "name": "stdout",
     "output_type": "stream",
     "text": [
      "The outlier points for the Congruent task is (5.4370000000000029, 22.658999999999999)\n",
      "The outlier points for the Incongruent task is (10.714625000000002, 32.053624999999997)\n"
     ]
    }
   ],
   "source": [
    "## Check for Outlier in both task\n",
    "#A number is considered an outlier if the number < Q1 - 1.5(IQR) or if > Q3 + 1.5(IQR)\n",
    "\n",
    "def Outlier_points(dist):\n",
    "    return percentile(dist, 25)-(1.5*IQR(dist)) , percentile(dist, 75)+(1.5*IQR(dist))\n",
    "\n",
    "print ('The outlier points for the Congruent task is', Outlier_points(cong))\n",
    "print ('The outlier points for the Incongruent task is', Outlier_points(incong))"
   ]
  },
  {
   "cell_type": "markdown",
   "metadata": {},
   "source": [
    "<ls> There is an outlier in the incongruent task. The outlier is the max time of 35.2 sec which is above the maximum outlier point. Because of the presence of an outlier in the Incongurent task will affect the range, \n",
    "<ls> The Interquatile range is a better measure of variability. The IQR for the Incongruent task recorded more time variability compared to the Congruent task."
   ]
  },
  {
   "cell_type": "markdown",
   "metadata": {},
   "source": [
    "## 3.3.3 Standard Deviation"
   ]
  },
  {
   "cell_type": "markdown",
   "metadata": {},
   "source": [
    "<ls> The Standard Deviation for the Congruent task is 3.55\n",
    "<ls> The Standard Deviation for the Incongruent task is 4.79\n",
    "\n",
    "The Standard deviation is the most measure of spread of a distribution. A small standard deviation means the value of a distribution are closer to the mean of the data set on average and vice versa. \n"
   ]
  },
  {
   "cell_type": "markdown",
   "metadata": {},
   "source": [
    "# 4.0 Hypothesis Testing"
   ]
  },
  {
   "cell_type": "raw",
   "metadata": {},
   "source": [
    "The task is a dependent paired sample hence we use a t-test for the hypothesis because of the following condition. \n",
    "•\tThe population size is 24. i.e n < 30\n",
    "\n",
    "H0: There is no interference in the average time spent on congruent and incongruent colors\n",
    "H1: There is an interference in the average time spent on congruent and incongruent colors\n",
    "    \n",
    "H0: μC = μI\n",
    "H1: μC =! μI\n",
    "\n",
    "Where:μC is the population mean of Congruent task\n",
    "\t  μI is the population mean of the Incongruent task\n"
   ]
  },
  {
   "cell_type": "markdown",
   "metadata": {},
   "source": [
    "## 4.1 T-statistic for Paired Sample"
   ]
  },
  {
   "cell_type": "code",
   "execution_count": 55,
   "metadata": {
    "collapsed": false
   },
   "outputs": [
    {
     "data": {
      "text/plain": [
       "-8.0207069441099552"
      ]
     },
     "execution_count": 55,
     "metadata": {},
     "output_type": "execute_result"
    }
   ],
   "source": [
    "def t_statistic(x, y):\n",
    "    n=x.count()\n",
    "    MD = x.mean() - y.mean()\n",
    "    diff = x-y\n",
    "    D = diff - MD\n",
    "    D_Sqr = D*D\n",
    "    Var = D_Sqr.sum() / (n-1)\n",
    "    std_dev = sqrt(Var)\n",
    "    \n",
    "    return MD/(std_dev/sqrt(n))\n",
    "\n",
    "t_statistic(cong, incong)"
   ]
  },
  {
   "cell_type": "markdown",
   "metadata": {},
   "source": [
    "## 4.2 Confidence Interval @ 95%"
   ]
  },
  {
   "cell_type": "code",
   "execution_count": 50,
   "metadata": {
    "collapsed": false
   },
   "outputs": [
    {
     "name": "stdout",
     "output_type": "stream",
     "text": [
      "The confidence interval is between: (-5.9102154213102782, -10.019367912023052)\n"
     ]
    }
   ],
   "source": [
    "def conf_interval(x, y):\n",
    "    tcrit = 2.069\n",
    "    MD = x.mean() - y.mean()\n",
    "    H = std_dev/sqrt(n)\n",
    "    return MD + (tcrit * H), MD - (tcrit * H)\n",
    "\n",
    "print ('The confidence interval is between:', conf_interval(cong, incong))"
   ]
  },
  {
   "cell_type": "markdown",
   "metadata": {},
   "source": [
    "## 4.3 Decision:"
   ]
  },
  {
   "cell_type": "code",
   "execution_count": null,
   "metadata": {
    "collapsed": true
   },
   "outputs": [],
   "source": [
    "Results:\n",
    "t statistic value is -8.02\n",
    "t-critical value is + or - 2.069\n",
    "point estimate (MD) is -7.96\n",
    "P-value is less than 0.0001"
   ]
  },
  {
   "cell_type": "markdown",
   "metadata": {},
   "source": [
    "Reject the Null hypothesis because there is significant evidence that there is an interference in the average time\n",
    "spent on the incongruent colors compared to the congruent colors. We can say that the type of ink color (congruent or \n",
    "incongruent) influences the time spent on the task. Participant spent fewer time in finishing the congruent task compared\n",
    "to the incongruent task\n",
    "\n",
    "We reject the null hypothesis because of the following evidence;\n",
    "<ls> 1. The t statistic of -8.02 of the sample means is lesser than the t-critical value of 2.069\n",
    "<ls> 2. Using 95% confidence level, the confidence interval is [-5.9, -10.0] This means on average, participants will spend 5 to 10 more seconds on the incongruent task.\n",
    "<ls> 3. The probability of obtaining the sample mean [p-value] is less than 0.0001 which is less than the alpha level of 0.05. This can be said to be extremely significant."
   ]
  },
  {
   "cell_type": "markdown",
   "metadata": {},
   "source": [
    "# 5.0 Conclusion"
   ]
  },
  {
   "cell_type": "markdown",
   "metadata": {
    "collapsed": true
   },
   "source": [
    "<ls> The center of tendency for the congruent task using the mean, median, mode is 14 seconds which means a participant \n",
    "has the tendency of taking about 14 seconds for the congruent task.\n",
    "<ls> While the center of tendency for the incongruent task is 21 secs using the median and the Mode because the mean was\n",
    "affected by an outlier.\n",
    "<ls> The hypothesis test shows that there is significant evidence that there is a stroop effect on the incongruent task.\n"
   ]
  },
  {
   "cell_type": "markdown",
   "metadata": {},
   "source": [
    "## 5.1 Possible reasons for the effects observed!"
   ]
  },
  {
   "cell_type": "markdown",
   "metadata": {},
   "source": [
    "There is a conflcting stimuli in reading the words in different colors. \n",
    "The reason can be attributed to interference in naming the colors than reading the words. \n",
    "\n",
    "According to the Neuro Science for Kids, Interference occurs beacuse naming colors require more attention than reading words. It can also be attributed to the Speed of processing theory which says words are read faster than color. "
   ]
  },
  {
   "cell_type": "markdown",
   "metadata": {},
   "source": [
    "## 5.2 Alternative or Similar task"
   ]
  },
  {
   "cell_type": "markdown",
   "metadata": {
    "collapsed": true
   },
   "source": [
    "Any task with a conflicting stimuli such as stroop effect will have similar effect. \n",
    "\n",
    "An example is asking a yes or no answer and requesting the respondents not to respond yes or no. \n",
    "The average time that will be taken in answering the qestions willl be longer\n",
    "\n",
    "Another example will be misplacing words in a sentence or letter in a word."
   ]
  },
  {
   "cell_type": "markdown",
   "metadata": {},
   "source": [
    "# Reference"
   ]
  },
  {
   "cell_type": "code",
   "execution_count": null,
   "metadata": {
    "collapsed": true
   },
   "outputs": [],
   "source": [
    "[https://faculty.washington.edu/chudler/words.html]"
   ]
  }
 ],
 "metadata": {
  "anaconda-cloud": {},
  "kernelspec": {
   "display_name": "Python 3",
   "language": "python",
   "name": "python3"
  },
  "language_info": {
   "codemirror_mode": {
    "name": "ipython",
    "version": 3
   },
   "file_extension": ".py",
   "mimetype": "text/x-python",
   "name": "python",
   "nbconvert_exporter": "python",
   "pygments_lexer": "ipython3",
   "version": "3.6.0"
  }
 },
 "nbformat": 4,
 "nbformat_minor": 2
}
